{
 "cells": [
  {
   "cell_type": "markdown",
   "id": "644168c8-74bb-4b71-b7c8-9f72cb8a8c61",
   "metadata": {},
   "source": [
    "# Documentación de Bases de Datos para Python y Node.js\n",
    "\n",
    "Hecho por:\n",
    "Eduardo Tovar\n",
    "Juan D. Cordero\n",
    "Luis Leòn\n",
    "Nelson Guerrero"
   ]
  },
  {
   "cell_type": "markdown",
   "id": "e1f7542d-c3d2-4e1f-9592-b6f9093127bb",
   "metadata": {},
   "source": [
    "Documentacion acerca del uso de los distintos tipos de base de datos en node.js y python."
   ]
  },
  {
   "cell_type": "markdown",
   "id": "fa9646ee-83ed-4088-8b87-689db432270e",
   "metadata": {
    "jp-MarkdownHeadingCollapsed": true
   },
   "source": [
    "## 1. Instalación y Configuración"
   ]
  },
  {
   "cell_type": "markdown",
   "id": "e1566450-a991-4055-b628-e229b4cf55ac",
   "metadata": {},
   "source": [
    "### 1.1. Para Python"
   ]
  },
  {
   "cell_type": "markdown",
   "id": "4cc8e738-86bf-4a40-a15a-e62dda566125",
   "metadata": {},
   "source": [
    "#### 1.1.1. Instalación de Librerías para Bases de Datos\n",
    "    \n",
    "    -Instalar Python: Descarga e instala la última versión de Python (https://www.python.org/downloads/).\n",
    "\n",
    "    -Dependiendo de la base de datos que vayas a utilizar, instala las siguientes librerías:"
   ]
  },
  {
   "cell_type": "markdown",
   "id": "34d8801c-a393-4ab7-b94c-8a3f4c6552d3",
   "metadata": {},
   "source": [
    "#### SQLite (incluido en la biblioteca estándar de Python)"
   ]
  },
  {
   "cell_type": "code",
   "execution_count": null,
   "id": "7d41d4ef-7f0a-4efd-973f-e6a34836d200",
   "metadata": {
    "jupyter": {
     "source_hidden": true
    }
   },
   "outputs": [],
   "source": [
    "#Python\n",
    "import sqlite3"
   ]
  },
  {
   "cell_type": "markdown",
   "id": "faef1885-0946-43cc-91f7-3e4df244a219",
   "metadata": {},
   "source": [
    "#### PostgreSQL"
   ]
  },
  {
   "cell_type": "raw",
   "id": "4667a840-4448-4f79-88e2-d6a7130eb40d",
   "metadata": {
    "jupyter": {
     "source_hidden": true
    }
   },
   "source": [
    "#Bash\n",
    "pip install psycopg2-binary"
   ]
  },
  {
   "cell_type": "markdown",
   "id": "e9a9ead0-d97a-49c5-9a7a-5d80ef9fd5a1",
   "metadata": {},
   "source": [
    "#### MySQL"
   ]
  },
  {
   "cell_type": "raw",
   "id": "231b541d-e8a9-447a-99a7-c23afa272aa8",
   "metadata": {
    "jupyter": {
     "source_hidden": true
    }
   },
   "source": [
    "#Bash\n",
    "pip install mysql-connector-python"
   ]
  },
  {
   "cell_type": "markdown",
   "id": "86ee99cf-f1d2-409e-a813-a586145c7034",
   "metadata": {},
   "source": [
    "#### MongoDB"
   ]
  },
  {
   "cell_type": "raw",
   "id": "33a61881-926f-400b-be0b-32711d7a9bfd",
   "metadata": {
    "jupyter": {
     "source_hidden": true
    }
   },
   "source": [
    "#Bash\n",
    "pip install pymongo"
   ]
  },
  {
   "cell_type": "markdown",
   "id": "aed9a041-7072-4cd0-934a-0b5b5948a500",
   "metadata": {},
   "source": [
    "#### ORM y Abstraccion de base de datos"
   ]
  },
  {
   "cell_type": "raw",
   "id": "6f95f66a-b9a7-4bdf-ab21-c87078c11632",
   "metadata": {
    "jupyter": {
     "source_hidden": true
    }
   },
   "source": [
    "#Bash\n",
    "pip install sqlalchemy"
   ]
  },
  {
   "cell_type": "markdown",
   "id": "be0f13cc-20cc-4575-8c9a-e4300a2bce71",
   "metadata": {},
   "source": [
    "#### 1.1.2. Instalación de Librerías para API's\n",
    "Además de las librerías para bases de datos, instala frameworks para construir APIs:"
   ]
  },
  {
   "cell_type": "markdown",
   "id": "7418262d-e093-4e5b-8d86-125ec766a953",
   "metadata": {},
   "source": [
    "#### Flask:"
   ]
  },
  {
   "cell_type": "raw",
   "id": "e258b470-31f4-4b62-9c91-83b10da187a8",
   "metadata": {
    "jupyter": {
     "source_hidden": true
    }
   },
   "source": [
    "#Bash\n",
    "pip install flask flask-restful"
   ]
  },
  {
   "cell_type": "markdown",
   "id": "1de30f59-5260-45b6-adf3-230771fd5152",
   "metadata": {},
   "source": [
    "#### FastAPI:"
   ]
  },
  {
   "cell_type": "raw",
   "id": "fe2aa87e-fbbc-4a52-a76b-3269f3dfb250",
   "metadata": {
    "jupyter": {
     "source_hidden": true
    }
   },
   "source": [
    "#Bash\n",
    "pip install fastapi uvicorn"
   ]
  },
  {
   "cell_type": "markdown",
   "id": "a34330f6-84b5-4618-9337-0f944b0451a5",
   "metadata": {},
   "source": [
    "Nota: Cada una de estas librerías permitirá conectar y manejar bases de datos de forma nativa o a través de un ORM."
   ]
  },
  {
   "cell_type": "markdown",
   "id": "bc11d970-c533-4fef-a6f9-e383155e8096",
   "metadata": {},
   "source": [
    "### 1.2. Para Node.js y APIs"
   ]
  },
  {
   "cell_type": "markdown",
   "id": "b9bef94a-d572-4c40-a36e-19522f3a9b62",
   "metadata": {},
   "source": [
    "#### 1.2.1. Instalación de Node.js y npm\n",
    "Descarga e instala la última versión estable desde nodejs.org (https://nodejs.org/).\n",
    "\n",
    "Verifica la instalación en la terminal:"
   ]
  },
  {
   "cell_type": "raw",
   "id": "c1152f2e-f34b-404f-b791-8995b6e5cf19",
   "metadata": {
    "jupyter": {
     "source_hidden": true
    }
   },
   "source": [
    "#Bash\n",
    "node -v\n",
    "npm -v"
   ]
  },
  {
   "cell_type": "markdown",
   "id": "a5a99be8-43cd-4e2c-91dd-29283db5b024",
   "metadata": {},
   "source": [
    "#### 1.2.1 Instala las librerías necesarias"
   ]
  },
  {
   "cell_type": "markdown",
   "id": "5dd3b955-c166-4b5c-9820-ce76173385e7",
   "metadata": {},
   "source": [
    "#### Para bases de datos relacionales con un ORM (Sequelize):"
   ]
  },
  {
   "cell_type": "raw",
   "id": "b6756e49-222e-4755-af68-be3002b884cf",
   "metadata": {
    "jupyter": {
     "source_hidden": true
    }
   },
   "source": [
    "#Bash\n",
    "npm install sequelize\n",
    "npm install mysql2     # Si usas MySQL\n",
    "npm install pg pg-hstore   # Si usas PostgreSQL"
   ]
  },
  {
   "cell_type": "markdown",
   "id": "ac7df4f2-7c5c-4693-b8d3-7dd286ab5eea",
   "metadata": {},
   "source": [
    "#### Para bases de datos NoSQL (MongoDB):"
   ]
  },
  {
   "cell_type": "raw",
   "id": "9995c1fe-7228-4ad2-960a-ce8a3534505a",
   "metadata": {
    "jupyter": {
     "source_hidden": true
    }
   },
   "source": [
    "#Bash\n",
    "npm install mongoose"
   ]
  },
  {
   "cell_type": "markdown",
   "id": "aebe260b-b0f4-4860-9e0c-5ab9732499f4",
   "metadata": {},
   "source": [
    "### Framework para APIs (Express):"
   ]
  },
  {
   "cell_type": "raw",
   "id": "1ee74f95-ba44-4c7f-a705-e988ea34c12f",
   "metadata": {
    "jupyter": {
     "source_hidden": true
    }
   },
   "source": [
    "#Bash\n",
    "npm install express"
   ]
  },
  {
   "cell_type": "markdown",
   "id": "18f867ad-3292-4d5c-8695-00f6b10b1a6e",
   "metadata": {},
   "source": [
    "Nota: Escoger entre Node.js y Python para el manejo de bases de datos dependera mucho del uso que se le vaya a dar y la preferencia personal, puesto a que ambos tienen herramientas muy robustas y conocidas para el manejo de estas."
   ]
  },
  {
   "cell_type": "markdown",
   "id": "364a12ad-fa84-40b5-9f9c-60c6b4733591",
   "metadata": {
    "jp-MarkdownHeadingCollapsed": true
   },
   "source": [
    "## 2. Tipos de Bases de Datos y sus Características"
   ]
  },
  {
   "cell_type": "markdown",
   "id": "c2b365c4-46f8-4303-ba7d-38c6463d8414",
   "metadata": {},
   "source": [
    "### 2.1. Bases de Datos Relacionales (SQL)"
   ]
  },
  {
   "cell_type": "markdown",
   "id": "bd03f40e-0624-49c3-8633-e22911c0b1e9",
   "metadata": {},
   "source": [
    "#### 2.1.1. Características:\n",
    "\n",
    "        -Estructura de Datos: Utilizan tablas con filas y columnas.\n",
    "\n",
    "        -Relaciones: Se pueden establecer relaciones entre tablas mediante claves primarias y foráneas.\n",
    "\n",
    "        -Lenguaje: SQL (Structured Query Language) es el lenguaje estándar para gestionar datos.\n",
    "\n",
    "        -Ejemplos: MySQL, PostgreSQL, SQLite, SQL Server, Oracle."
   ]
  },
  {
   "cell_type": "markdown",
   "id": "a8912c09-fd14-4231-9cf0-e4971bec522c",
   "metadata": {},
   "source": [
    "#### 2.1.2. Tipos de Datos Comunes en SQL:\n",
    "\n",
    "        -Numéricos: INTEGER, FLOAT, DECIMAL\n",
    "\n",
    "        -Textuales: VARCHAR, CHAR, TEXT\n",
    "\n",
    "        -Fechas y Tiempos: DATE, TIME, TIMESTAMP\n",
    "\n",
    "        -Booleanos: BOOLEAN\n",
    "\n",
    "        -Otros: BLOB (para datos binarios), JSON (en algunos motores)"
   ]
  },
  {
   "cell_type": "markdown",
   "id": "687adf42-079b-4f28-a4f8-cc3fa62c1508",
   "metadata": {},
   "source": [
    "#### 2.1.3. Manejo de Tablas Múltiples y Relaciones:\n",
    "\n",
    "        -Relaciones Uno a Muchos: Un registro de una tabla se asocia a múltiples registros en otra.\n",
    "         Ejemplo: Una tabla Usuarios y una tabla Pedidos, donde un usuario puede tener varios pedidos.\n",
    "\n",
    "        -Relaciones Muchos a Muchos: Se utiliza una tabla intermedia para relacionar registros de dos tablas.\n",
    "         Ejemplo: Una tabla Estudiantes, una tabla Cursos y una tabla Inscripciones que une ambas."
   ]
  },
  {
   "cell_type": "markdown",
   "id": "e45a02c2-f790-4f77-a6ef-dd32977d99f0",
   "metadata": {},
   "source": [
    "### 2.2. Bases de Datos No Relacionales (NoSQL)"
   ]
  },
  {
   "cell_type": "markdown",
   "id": "5d42399f-6aee-4f87-83d6-81060d519ded",
   "metadata": {},
   "source": [
    "#### 2.2.1. Características:\n",
    "       \n",
    "        -Estructura Flexible: Almacenamiento de datos en formato JSON, documentos, claves-valor, grafos o columnas.\n",
    "\n",
    "        -Escalabilidad: Suelen escalar horizontalmente de forma más sencilla que las bases de datos relacionales.\n",
    "\n",
    "        -Ejemplos: MongoDB, Cassandra, Redis, CouchDB."
   ]
  },
  {
   "cell_type": "markdown",
   "id": "2b0de8de-3d14-47b8-afd2-41d5d7aaf172",
   "metadata": {},
   "source": [
    "#### 2.2.2. Manejo de Datos en NoSQL:\n",
    "\n",
    "        -Documentos: Usados en MongoDB, donde cada registro es un documento en formato JSON.\n",
    "\n",
    "        -Claves-Valor: Ejemplos como Redis, donde se almacenan pares de clave y valor.\n",
    "\n",
    "        -Ventajas: Flexibilidad en el esquema, facilidad para almacenar datos semiestructurados y gran rendimiento en consultas distribuidas."
   ]
  },
  {
   "cell_type": "markdown",
   "id": "2cb41833-00a9-40ec-bdb1-4cc1ea6cae1f",
   "metadata": {
    "jp-MarkdownHeadingCollapsed": true
   },
   "source": [
    "## 3. Ejemplos Prácticos"
   ]
  },
  {
   "cell_type": "markdown",
   "id": "631fd06a-d656-456b-8b77-85b9254b7c9e",
   "metadata": {},
   "source": [
    "### 3.1. Uso de Bases de Datos Relacionales en Python (SQLite y PostgreSQL)"
   ]
  },
  {
   "cell_type": "markdown",
   "id": "7117947a-78b9-4e12-9107-6e5df2785ada",
   "metadata": {},
   "source": [
    "#### 3.1.1. Ejemplo con SQLite en Jupyter Notebook\n",
    "SQLite es ideal para pruebas y aplicaciones ligeras ya que viene integrado en Python."
   ]
  },
  {
   "cell_type": "code",
   "execution_count": null,
   "id": "d68bd21d-db18-442d-9ce1-d5d981a9fd6d",
   "metadata": {
    "jupyter": {
     "source_hidden": true
    }
   },
   "outputs": [],
   "source": [
    "#Python\n",
    "# Importar la biblioteca\n",
    "import sqlite3\n",
    "\n",
    "# Conectar a una base de datos (o crearla si no existe)\n",
    "conn = sqlite3.connect('mi_basedatos.db')\n",
    "cursor = conn.cursor()\n",
    "\n",
    "# Crear una tabla\n",
    "cursor.execute('''\n",
    "CREATE TABLE IF NOT EXISTS Usuarios (\n",
    "    id INTEGER PRIMARY KEY AUTOINCREMENT,\n",
    "    nombre TEXT NOT NULL,\n",
    "    email TEXT UNIQUE NOT NULL\n",
    ")\n",
    "''')\n",
    "\n",
    "# Insertar datos\n",
    "cursor.execute('''\n",
    "INSERT INTO Usuarios (nombre, email)\n",
    "VALUES ('Juan Pérez', 'juan.perez@example.com')\n",
    "''')\n",
    "conn.commit()\n",
    "\n",
    "# Consultar datos\n",
    "cursor.execute('SELECT * FROM Usuarios')\n",
    "usuarios = cursor.fetchall()\n",
    "print(\"Usuarios:\", usuarios)\n",
    "\n",
    "# Cerrar la conexión\n",
    "conn.close()\n"
   ]
  },
  {
   "cell_type": "markdown",
   "id": "e1403fe6-7862-4090-9d1b-f8dc225b79fe",
   "metadata": {},
   "source": [
    "#### 3.1.2. Ejemplo con PostgreSQL (usando psycopg2)\n",
    "Este ejemplo muestra cómo conectar, crear tablas y realizar consultas."
   ]
  },
  {
   "cell_type": "code",
   "execution_count": null,
   "id": "1143dc7e-5ec4-402b-8f8d-52cffdda0dd7",
   "metadata": {
    "jupyter": {
     "source_hidden": true
    }
   },
   "outputs": [],
   "source": [
    "#Python\n",
    "import psycopg2\n",
    "\n",
    "try:\n",
    "    conn = psycopg2.connect(\n",
    "        host=\"localhost\",\n",
    "        database=\"mi_basedatos\",\n",
    "        user=\"tu_usuario\",\n",
    "        password=\"tu_contraseña\"\n",
    "    )\n",
    "    cursor = conn.cursor()\n",
    "    \n",
    "    # Crear tabla\n",
    "    cursor.execute('''\n",
    "    CREATE TABLE IF NOT EXISTS Productos (\n",
    "        id SERIAL PRIMARY KEY,\n",
    "        nombre VARCHAR(100) NOT NULL,\n",
    "        precio DECIMAL(10,2) NOT NULL\n",
    "    )\n",
    "    ''')\n",
    "    \n",
    "    # Insertar datos\n",
    "    cursor.execute('''\n",
    "    INSERT INTO Productos (nombre, precio)\n",
    "    VALUES (%s, %s)\n",
    "    ''', ('Laptop', 999.99))\n",
    "    conn.commit()\n",
    "    \n",
    "    # Consultar datos\n",
    "    cursor.execute('SELECT * FROM Productos')\n",
    "    productos = cursor.fetchall()\n",
    "    print(\"Productos:\", productos)\n",
    "    \n",
    "except Exception as e:\n",
    "    print(\"Error:\", e)\n",
    "finally:\n",
    "    if conn:\n",
    "        cursor.close()\n",
    "        conn.close()\n"
   ]
  },
  {
   "cell_type": "markdown",
   "id": "9fab9835-68e3-4c0c-8742-447ad4f495a6",
   "metadata": {},
   "source": [
    "#### 3.2.3 Uso de Bases de Datos NoSQL en Python (MongoDB)\n",
    "Con MongoDB se usa la librería pymongo para manejar documentos JSON."
   ]
  },
  {
   "cell_type": "code",
   "execution_count": null,
   "id": "fad626c7-70f8-4263-8e13-f06b42f7fa81",
   "metadata": {
    "jupyter": {
     "source_hidden": true
    }
   },
   "outputs": [],
   "source": [
    "#Python\n",
    "from pymongo import MongoClient\n",
    "\n",
    "# Conectar a MongoDB\n",
    "client = MongoClient('mongodb://localhost:27017/')\n",
    "db = client['mi_basedatos']\n",
    "coleccion = db['clientes']\n",
    "\n",
    "# Insertar un documento\n",
    "cliente = {\n",
    "    \"nombre\": \"Ana García\",\n",
    "    \"email\": \"ana.garcia@example.com\",\n",
    "    \"edad\": 28\n",
    "}\n",
    "resultado = coleccion.insert_one(cliente)\n",
    "print(\"ID insertado:\", resultado.inserted_id)\n",
    "\n",
    "# Consultar documentos\n",
    "for doc in coleccion.find():\n",
    "    print(doc)\n"
   ]
  },
  {
   "cell_type": "markdown",
   "id": "d34fd69d-8e56-47e7-9169-d8334c5b0f46",
   "metadata": {},
   "source": [
    "#### 3.3.4 Uso de Bases de Datos Relacionales en Node.js con Sequelize\n",
    "Sequelize es un ORM que facilita la interacción con bases de datos SQL."
   ]
  },
  {
   "cell_type": "raw",
   "id": "cbc39bbf-c469-47a0-aee9-a33917b86fe2",
   "metadata": {
    "jupyter": {
     "source_hidden": true
    }
   },
   "source": [
    "// Node.js\n",
    "// index.js\n",
    "const { Sequelize, DataTypes } = require('sequelize');\n",
    "\n",
    "// Conectar a la base de datos (ejemplo con SQLite, pero se puede cambiar a MySQL o PostgreSQL)\n",
    "const sequelize = new Sequelize({\n",
    "  dialect: 'sqlite',\n",
    "  storage: 'mi_basedatos.sqlite'\n",
    "});\n",
    "\n",
    "// Definir un modelo\n",
    "const Usuario = sequelize.define('Usuario', {\n",
    "  nombre: {\n",
    "    type: DataTypes.STRING,\n",
    "    allowNull: false\n",
    "  },\n",
    "  email: {\n",
    "    type: DataTypes.STRING,\n",
    "    unique: true,\n",
    "    allowNull: false\n",
    "  }\n",
    "});\n",
    "\n",
    "// Sincronizar el modelo y crear la tabla\n",
    "sequelize.sync()\n",
    "  .then(() => {\n",
    "    console.log(\"La base de datos y la tabla Usuario han sido creadas.\");\n",
    "    // Insertar un usuario\n",
    "    return Usuario.create({\n",
    "      nombre: 'Carlos López',\n",
    "      email: 'carlos.lopez@example.com'\n",
    "    });\n",
    "  })\n",
    "  .then(usuario => {\n",
    "    console.log(\"Usuario creado:\", usuario.toJSON());\n",
    "  })\n",
    "  .catch(err => {\n",
    "    console.error(\"Error al crear la tabla:\", err);\n",
    "  });\n"
   ]
  },
  {
   "cell_type": "markdown",
   "id": "1f33a9b8-e60c-4189-a50d-0bc5e314b0c1",
   "metadata": {},
   "source": [
    "#### 3.4.5 Uso de Bases de Datos NoSQL en Node.js con Mongoose (MongoDB)\n",
    "Mongoose facilita la interacción con MongoDB definiendo esquemas para nuestros documentos."
   ]
  },
  {
   "cell_type": "raw",
   "id": "d67e0d48-2bd4-4de7-9aed-7c2aa88b4c73",
   "metadata": {
    "jupyter": {
     "source_hidden": true
    }
   },
   "source": [
    "//Node.js\n",
    "// app.js\n",
    "const mongoose = require('mongoose');\n",
    "\n",
    "// Conectar a MongoDB\n",
    "mongoose.connect('mongodb://localhost:27017/mi_basedatos', {\n",
    "  useNewUrlParser: true,\n",
    "  useUnifiedTopology: true\n",
    "})\n",
    ".then(() => console.log(\"Conectado a MongoDB\"))\n",
    ".catch(err => console.error(\"Error de conexión:\", err));\n",
    "\n",
    "// Definir un esquema y modelo\n",
    "const usuarioSchema = new mongoose.Schema({\n",
    "  nombre: { type: String, required: true },\n",
    "  email: { type: String, unique: true, required: true },\n",
    "  edad: Number\n",
    "});\n",
    "\n",
    "const Usuario = mongoose.model('Usuario', usuarioSchema);\n",
    "\n",
    "// Crear e insertar un nuevo documento\n",
    "const nuevoUsuario = new Usuario({\n",
    "  nombre: 'María Torres',\n",
    "  email: 'maria.torres@example.com',\n",
    "  edad: 32\n",
    "});\n",
    "\n",
    "nuevoUsuario.save()\n",
    "  .then(doc => console.log(\"Usuario insertado:\", doc))\n",
    "  .catch(err => console.error(\"Error al insertar:\", err));\n"
   ]
  },
  {
   "cell_type": "markdown",
   "id": "7e1496b1-b5b2-4672-9668-d0f9dab3db7b",
   "metadata": {
    "jp-MarkdownHeadingCollapsed": true
   },
   "source": [
    "## 4. Creación de API REST Integradas con Bases de Datos\n",
    "Las API REST permiten exponer recursos (datos) a través de endpoints HTTP, facilitando la comunicación entre aplicaciones. Se presentan ejemplos en Python y Node.js."
   ]
  },
  {
   "cell_type": "markdown",
   "id": "7cbcb9ad-602e-4817-8c0d-ef58a09508b8",
   "metadata": {},
   "source": [
    "### 4.1. API REST en Python con Flask"
   ]
  },
  {
   "cell_type": "markdown",
   "id": "0ed26cef-5631-4562-b2dc-7992ce1874f1",
   "metadata": {},
   "source": [
    "#### 4.1.1. Ejemplo de API REST que Interactúa con SQLite"
   ]
  },
  {
   "cell_type": "code",
   "execution_count": null,
   "id": "be803eec-841b-4c6d-8013-641ba335acd7",
   "metadata": {
    "jupyter": {
     "source_hidden": true
    }
   },
   "outputs": [],
   "source": [
    "#Python\n",
    "# api_flask.py\n",
    "from flask import Flask, request, jsonify\n",
    "import sqlite3\n",
    "\n",
    "app = Flask(__name__)\n",
    "\n",
    "# Función para obtener conexión a SQLite\n",
    "def get_db_connection():\n",
    "    conn = sqlite3.connect('mi_basedatos.db')\n",
    "    conn.row_factory = sqlite3.Row\n",
    "    return conn\n",
    "\n",
    "# Endpoint para obtener todos los usuarios\n",
    "@app.route('/api/usuarios', methods=['GET'])\n",
    "def obtener_usuarios():\n",
    "    conn = get_db_connection()\n",
    "    usuarios = conn.execute('SELECT * FROM Usuarios').fetchall()\n",
    "    conn.close()\n",
    "    usuarios_list = [dict(usuario) for usuario in usuarios]\n",
    "    return jsonify(usuarios_list)\n",
    "\n",
    "# Endpoint para crear un nuevo usuario\n",
    "@app.route('/api/usuarios', methods=['POST'])\n",
    "def crear_usuario():\n",
    "    nuevo_usuario = request.get_json()\n",
    "    nombre = nuevo_usuario.get('nombre')\n",
    "    email = nuevo_usuario.get('email')\n",
    "    \n",
    "    conn = get_db_connection()\n",
    "    cursor = conn.cursor()\n",
    "    cursor.execute('INSERT INTO Usuarios (nombre, email) VALUES (?, ?)', (nombre, email))\n",
    "    conn.commit()\n",
    "    nuevo_id = cursor.lastrowid\n",
    "    conn.close()\n",
    "    \n",
    "    return jsonify({'id': nuevo_id, 'nombre': nombre, 'email': email}), 201\n",
    "\n",
    "if __name__ == '__main__':\n",
    "    # Asegúrate de haber creado la tabla Usuarios previamente\n",
    "    app.run(debug=True)\n"
   ]
  },
  {
   "cell_type": "markdown",
   "id": "4f5f899d-ebc2-4c6e-8348-244f1a8c346a",
   "metadata": {},
   "source": [
    "#### 4.1.2. API REST en Python con FastAPI"
   ]
  },
  {
   "cell_type": "code",
   "execution_count": null,
   "id": "2b97dc94-bdf8-40f2-8bb8-08ab30f9688a",
   "metadata": {
    "jupyter": {
     "source_hidden": true
    }
   },
   "outputs": [],
   "source": [
    "#Python\n",
    "# api_fastapi.py\n",
    "from fastapi import FastAPI, HTTPException\n",
    "from pydantic import BaseModel\n",
    "import sqlite3\n",
    "\n",
    "app = FastAPI()\n",
    "\n",
    "# Modelo para el usuario\n",
    "class Usuario(BaseModel):\n",
    "    nombre: str\n",
    "    email: str\n",
    "\n",
    "def get_db_connection():\n",
    "    conn = sqlite3.connect('mi_basedatos.db')\n",
    "    conn.row_factory = sqlite3.Row\n",
    "    return conn\n",
    "\n",
    "@app.get(\"/api/usuarios\")\n",
    "def obtener_usuarios():\n",
    "    conn = get_db_connection()\n",
    "    usuarios = conn.execute('SELECT * FROM Usuarios').fetchall()\n",
    "    conn.close()\n",
    "    return [dict(usuario) for usuario in usuarios]\n",
    "\n",
    "@app.post(\"/api/usuarios\", status_code=201)\n",
    "def crear_usuario(usuario: Usuario):\n",
    "    conn = get_db_connection()\n",
    "    cursor = conn.cursor()\n",
    "    try:\n",
    "        cursor.execute('INSERT INTO Usuarios (nombre, email) VALUES (?, ?)', (usuario.nombre, usuario.email))\n",
    "        conn.commit()\n",
    "    except Exception as e:\n",
    "        conn.close()\n",
    "        raise HTTPException(status_code=400, detail=\"Error al insertar el usuario\")\n",
    "    nuevo_id = cursor.lastrowid\n",
    "    conn.close()\n",
    "    return {\"id\": nuevo_id, \"nombre\": usuario.nombre, \"email\": usuario.email}\n",
    "\n",
    "# Ejecuta uvicorn api_fastapi:app --reload para probar la API\n"
   ]
  },
  {
   "cell_type": "markdown",
   "id": "adb3d505-cd81-4c7c-8602-5c40e3131dde",
   "metadata": {},
   "source": [
    "### 4.2. API REST en Node.js con Express"
   ]
  },
  {
   "cell_type": "markdown",
   "id": "eea7f184-52ac-4eab-a207-198acd5a7bba",
   "metadata": {},
   "source": [
    "#### 4.2.1. Ejemplo de API REST que Interactúa con una Base de Datos SQL usando Sequelize"
   ]
  },
  {
   "cell_type": "raw",
   "id": "038cc123-b3f4-45ef-bc57-3fafdee46ff7",
   "metadata": {
    "jupyter": {
     "source_hidden": true
    }
   },
   "source": [
    "//Node.js\n",
    "// server.js\n",
    "const express = require('express');\n",
    "const bodyParser = require('body-parser');\n",
    "const { Sequelize, DataTypes } = require('sequelize');\n",
    "\n",
    "const app = express();\n",
    "app.use(bodyParser.json());\n",
    "\n",
    "// Configuración de Sequelize (ejemplo con SQLite)\n",
    "const sequelize = new Sequelize({\n",
    "  dialect: 'sqlite',\n",
    "  storage: 'mi_basedatos.sqlite'\n",
    "});\n",
    "\n",
    "// Definición del modelo Usuario\n",
    "const Usuario = sequelize.define('Usuario', {\n",
    "  nombre: {\n",
    "    type: DataTypes.STRING,\n",
    "    allowNull: false\n",
    "  },\n",
    "  email: {\n",
    "    type: DataTypes.STRING,\n",
    "    unique: true,\n",
    "    allowNull: false\n",
    "  }\n",
    "});\n",
    "\n",
    "// Sincronizar la base de datos\n",
    "sequelize.sync().then(() => console.log('Base de datos sincronizada'));\n",
    "\n",
    "// Endpoint GET para obtener todos los usuarios\n",
    "app.get('/api/usuarios', async (req, res) => {\n",
    "  try {\n",
    "    const usuarios = await Usuario.findAll();\n",
    "    res.json(usuarios);\n",
    "  } catch (error) {\n",
    "    res.status(500).json({ error: 'Error al obtener los usuarios' });\n",
    "  }\n",
    "});\n",
    "\n",
    "// Endpoint POST para crear un nuevo usuario\n",
    "app.post('/api/usuarios', async (req, res) => {\n",
    "  try {\n",
    "    const { nombre, email } = req.body;\n",
    "    const usuario = await Usuario.create({ nombre, email });\n",
    "    res.status(201).json(usuario);\n",
    "  } catch (error) {\n",
    "    res.status(400).json({ error: 'Error al crear el usuario' });\n",
    "  }\n",
    "});\n",
    "\n",
    "const PORT = process.env.PORT || 3000;\n",
    "app.listen(PORT, () => {\n",
    "  console.log(`Servidor corriendo en puerto ${PORT}`);\n",
    "});\n"
   ]
  },
  {
   "cell_type": "markdown",
   "id": "0de7ebbe-b4b4-46aa-b406-852693afb6c4",
   "metadata": {},
   "source": [
    "#### 4.2.2. Ejemplo de API REST en Node.js con Mongoose (MongoDB)"
   ]
  },
  {
   "cell_type": "raw",
   "id": "db51b04d-cd98-4fe6-be35-1ec827d157e8",
   "metadata": {
    "jupyter": {
     "source_hidden": true
    }
   },
   "source": [
    "//Node.js\n",
    "// app.js\n",
    "const express = require('express');\n",
    "const mongoose = require('mongoose');\n",
    "const bodyParser = require('body-parser');\n",
    "\n",
    "const app = express();\n",
    "app.use(bodyParser.json());\n",
    "\n",
    "// Conectar a MongoDB\n",
    "mongoose.connect('mongodb://localhost:27017/mi_basedatos', {\n",
    "  useNewUrlParser: true,\n",
    "  useUnifiedTopology: true\n",
    "})\n",
    ".then(() => console.log(\"Conectado a MongoDB\"))\n",
    ".catch(err => console.error(\"Error de conexión:\", err));\n",
    "\n",
    "// Definir el esquema y modelo Usuario\n",
    "const usuarioSchema = new mongoose.Schema({\n",
    "  nombre: { type: String, required: true },\n",
    "  email: { type: String, unique: true, required: true },\n",
    "  edad: Number\n",
    "});\n",
    "\n",
    "const Usuario = mongoose.model('Usuario', usuarioSchema);\n",
    "\n",
    "// Endpoint GET para obtener usuarios\n",
    "app.get('/api/usuarios', async (req, res) => {\n",
    "  try {\n",
    "    const usuarios = await Usuario.find();\n",
    "    res.json(usuarios);\n",
    "  } catch (error) {\n",
    "    res.status(500).json({ error: 'Error al obtener los usuarios' });\n",
    "  }\n",
    "});\n",
    "\n",
    "// Endpoint POST para crear un usuario\n",
    "app.post('/api/usuarios', async (req, res) => {\n",
    "  try {\n",
    "    const nuevoUsuario = new Usuario(req.body);\n",
    "    const resultado = await nuevoUsuario.save();\n",
    "    res.status(201).json(resultado);\n",
    "  } catch (error) {\n",
    "    res.status(400).json({ error: 'Error al crear el usuario' });\n",
    "  }\n",
    "});\n",
    "\n",
    "const PORT = process.env.PORT || 3000;\n",
    "app.listen(PORT, () => {\n",
    "  console.log(`Servidor corriendo en puerto ${PORT}`);\n",
    "});\n"
   ]
  },
  {
   "cell_type": "markdown",
   "id": "416c12b0-b138-435f-b3c1-4eed3eeea326",
   "metadata": {
    "jp-MarkdownHeadingCollapsed": true
   },
   "source": [
    "## 5. Manejo Avanzado de Variables, Tipos de Datos y Relaciones"
   ]
  },
  {
   "cell_type": "markdown",
   "id": "15ae1552-72de-4d06-99ea-c676e24d0d41",
   "metadata": {},
   "source": [
    "### 5.1. Variables y Tipos de Datos en Python vs. Node.js\n",
    "\n",
    "    -Python:\n",
    "\n",
    "        #Tipos básicos: int, float, str, bool, list, dict, etc.\n",
    "\n",
    "        -En bases de datos relacionales, se mapean a tipos SQL (por ejemplo, un int de Python a INTEGER en SQL).\n",
    "\n",
    "        -En bases de datos NoSQL, los datos se almacenan en formatos JSON que permiten una mayor flexibilidad.\n",
    "\n",
    "    -Node.js (JavaScript):\n",
    "\n",
    "        -Tipos básicos: Number, String, Boolean, Array, Object.\n",
    "\n",
    "        -La tipificación es dinámica; sin embargo, al interactuar con bases de datos se deben definir esquemas (especialmente con ORMs o ODMs).\n",
    "\n",
    "        -Al usar librerías como Mongoose, se define un esquema que especifica el tipo de cada campo (por ejemplo, String, Number, Date, etc.)."
   ]
  },
  {
   "cell_type": "markdown",
   "id": "f635a59d-8272-44d0-a0c2-bc705b93d6f2",
   "metadata": {},
   "source": [
    "### 5.2. Manejo de Tablas Múltiples y Relaciones en SQL"
   ]
  },
  {
   "cell_type": "markdown",
   "id": "8f47e1d7-6a06-417e-afcc-155d0f0c1895",
   "metadata": {},
   "source": [
    "#### 5.2.1. Relaciones Uno a Muchos\n",
    "\n",
    "Ejemplo conceptual:\n",
    "\n",
    "    -Tabla Clientes con columna id_cliente (clave primaria).\n",
    "\n",
    "    -Tabla Pedidos con columna cliente_id (clave foránea que referencia Clientes.id_cliente)."
   ]
  },
  {
   "cell_type": "markdown",
   "id": "41765e8c-d800-4bde-9837-34ce824dc54c",
   "metadata": {},
   "source": [
    "#### 5.2.3. Ejemplo de Consulta con JOIN"
   ]
  },
  {
   "cell_type": "raw",
   "id": "c3d9082c-23ee-414d-be6e-e8da9ae288f3",
   "metadata": {
    "jupyter": {
     "source_hidden": true
    }
   },
   "source": [
    "#SQL\n",
    "-- Obtener los pedidos y la información del cliente asociado\n",
    "SELECT p.id, p.fecha, c.nombre, c.email\n",
    "FROM Pedidos p\n",
    "JOIN Clientes c ON p.cliente_id = c.id_cliente;\n"
   ]
  },
  {
   "cell_type": "markdown",
   "id": "cc167f3d-4700-45a7-b1ad-8b82254d05af",
   "metadata": {
    "jp-MarkdownHeadingCollapsed": true
   },
   "source": [
    "## 6.Integración y Consumo de APIs en la Aplicación"
   ]
  },
  {
   "cell_type": "markdown",
   "id": "3d752851-8be3-48c2-836f-9f3bf54fc3fa",
   "metadata": {},
   "source": [
    "### 6.1. Buenas Prácticas en el Diseño de API REST\n",
    "\n",
    "    -Versionamiento: Incluir versiones en los endpoints (por ejemplo, /api/v1/usuarios).\n",
    "\n",
    "    -Estandarización de Respuestas: Utilizar formatos JSON consistentes para respuestas y errores.\n",
    "\n",
    "    -Documentación: Emplea herramientas como Swagger o Postman para documentar la API.\n",
    "\n",
    "    -Autenticación y Autorización:\n",
    "\n",
    "        -Implementa tokens JWT para proteger endpoints sensibles.\n",
    "\n",
    "        -Utiliza middleware para validar credenciales y permisos.\n",
    "\n",
    "    -Manejo de Errores:\n",
    "\n",
    "        -Retorna códigos de estado HTTP adecuados (200, 201, 400, 401, 404, 500, etc.).\n",
    "\n",
    "        -Proporciona mensajes de error claros para facilitar la depuración."
   ]
  },
  {
   "cell_type": "markdown",
   "id": "7743f87e-89a3-4f7e-bbb7-92559ea51105",
   "metadata": {},
   "source": [
    "### 6.2. Consumo de APIs en el Cliente"
   ]
  },
  {
   "cell_type": "markdown",
   "id": "320153f9-0da8-4e35-984e-5e760f50c452",
   "metadata": {},
   "source": [
    "#### 6.2.1. Ejemplo de Consumo en Python\n",
    "Utilizando la librería requests para consumir la API desarrollada en Flask o FastAPI:"
   ]
  },
  {
   "cell_type": "code",
   "execution_count": 1,
   "id": "751873ed-9d74-4a6c-b398-d2924ece34a0",
   "metadata": {
    "jupyter": {
     "source_hidden": true
    }
   },
   "outputs": [],
   "source": [
    "#Python\n",
    "import requests\n",
    "\n",
    "# Obtener usuarios\n",
    "response = requests.get('http://localhost:5000/api/usuarios')\n",
    "usuarios = response.json()\n",
    "print(\"Usuarios:\", usuarios)\n",
    "\n",
    "# Crear un nuevo usuario\n",
    "nuevo_usuario = {'nombre': 'Pedro Ramírez', 'email': 'pedro.ramirez@example.com'}\n",
    "response = requests.post('http://localhost:5000/api/usuarios', json=nuevo_usuario)\n",
    "print(\"Respuesta creación:\", response.json())\n"
   ]
  },
  {
   "cell_type": "markdown",
   "id": "8b0880e4-3ba5-4099-bb76-15ec9bbbb58b",
   "metadata": {},
   "source": [
    "#### 6.2.2. Ejemplo de Consumo en Node.js\n",
    "Utilizando el paquete axios para realizar peticiones HTTP desde un cliente Node.js:"
   ]
  },
  {
   "cell_type": "raw",
   "id": "fa1d062c-3d23-4337-85ec-a417c6ac5b6b",
   "metadata": {
    "jupyter": {
     "source_hidden": true
    }
   },
   "source": [
    "//Node.js\n",
    "// client.js\n",
    "const axios = require('axios');\n",
    "\n",
    "// Obtener usuarios\n",
    "axios.get('http://localhost:3000/api/usuarios')\n",
    "  .then(response => {\n",
    "    console.log(\"Usuarios:\", response.data);\n",
    "  })\n",
    "  .catch(error => {\n",
    "    console.error(\"Error:\", error);\n",
    "  });\n",
    "\n",
    "// Crear un usuario\n",
    "const nuevoUsuario = { nombre: 'Lucía Fernández', email: 'lucia.fernandez@example.com' };\n",
    "axios.post('http://localhost:3000/api/usuarios', nuevoUsuario)\n",
    "  .then(response => {\n",
    "    console.log(\"Usuario creado:\", response.data);\n",
    "  })\n",
    "  .catch(error => {\n",
    "    console.error(\"Error:\", error);\n",
    "  });\n"
   ]
  },
  {
   "cell_type": "markdown",
   "id": "a8fc2a47-dead-4021-bb04-f951aab99423",
   "metadata": {
    "jp-MarkdownHeadingCollapsed": true
   },
   "source": [
    "## 7. Seguridad y Autenticación en API REST"
   ]
  },
  {
   "cell_type": "markdown",
   "id": "b0fd2582-2ea2-405d-98d1-e41eeab58253",
   "metadata": {},
   "source": [
    "### 7.1. Autenticación con JWT\n",
    "\n",
    "    -Flask:\n",
    "\n",
    "        -Utiliza la librería PyJWT para generar y verificar tokens.\n",
    "\n",
    "        -Crea un endpoint de login que genere un token JWT tras verificar credenciales.\n",
    "\n",
    "    -Express:\n",
    "\n",
    "        -Emplea el paquete jsonwebtoken para gestionar tokens.\n",
    "\n",
    "        -Crea middleware que verifique el token antes de permitir el acceso a rutas protegidas."
   ]
  },
  {
   "cell_type": "markdown",
   "id": "b2b5666b-b875-4049-85bd-0d893cb1a37f",
   "metadata": {},
   "source": [
    "### 7.2. Buenas Prácticas de Seguridad\n",
    "\n",
    "    -Encriptación de Datos Sensibles: Utiliza librerías para hash de contraseñas (por ejemplo, \n",
    "     bcrypt).\n",
    "\n",
    "    -CORS: Configura CORS adecuadamente para controlar el acceso de clientes a la API.\n",
    "\n",
    "    -Validación de Input: Emplea validaciones robustas en cada endpoint para evitar inyecciones y otros ataques.\n",
    "\n"
   ]
  },
  {
   "cell_type": "markdown",
   "id": "d8c2f6a5-b119-4265-8adc-4050ee497893",
   "metadata": {
    "jp-MarkdownHeadingCollapsed": true
   },
   "source": [
    "## 8. Manejo Avanzado y Escenarios Complejos"
   ]
  },
  {
   "cell_type": "markdown",
   "id": "c597302b-7fc4-4a49-9709-74e5ca83834d",
   "metadata": {},
   "source": [
    "### 8.1. Migraciones y Versionado del Esquema de Datos\n",
    "\n",
    "    -Python:\n",
    "\n",
    "        -Con SQLAlchemy y Alembic, gestiona cambios en el esquema de forma controlada.\n",
    "\n",
    "    -Node.js:\n",
    "\n",
    "        -Sequelize ofrece un sistema de migraciones para mantener el versionado y consistencia \n",
    "         del esquema."
   ]
  },
  {
   "cell_type": "markdown",
   "id": "86b5ad22-332d-4c8e-9e6f-3a5dae224e15",
   "metadata": {},
   "source": [
    "### 8.2. Escalabilidad y Optimización\n",
    "\n",
    "    -Pooling de Conexiones: Utiliza pooling tanto en Python (por ejemplo, a través de SQLAlchemy) como en Node.js (mediante Sequelize o Mongoose) para manejar múltiples peticiones.\n",
    "\n",
    "    -Caching: Implementa soluciones como Redis para cachear respuestas y mejorar la latencia.\n",
    "\n",
    "    -Monitorización: Incorpora herramientas de logging y monitoreo (por ejemplo, Prometheus, NewRelic) para identificar cuellos de botella."
   ]
  },
  {
   "cell_type": "markdown",
   "id": "4836219d-1f34-47aa-b39d-408c37ffb471",
   "metadata": {},
   "source": [
    "### 8.3. Integración con Otros Servicios\n",
    "\n",
    "    -APIs Externas: Las aplicaciones pueden consumir o exponer información a otras APIs, integrando servicios como pagos, mensajería o análisis de datos.\n",
    "\n",
    "    -GraphQL: Para escenarios donde se requiere flexibilidad en las consultas, considera usar GraphQL en lugar de REST. En Node.js, Apollo Server es una opción popular."
   ]
  }
 ],
 "metadata": {
  "kernelspec": {
   "display_name": "Python 3 (ipykernel)",
   "language": "python",
   "name": "python3"
  },
  "language_info": {
   "codemirror_mode": {
    "name": "ipython",
    "version": 3
   },
   "file_extension": ".py",
   "mimetype": "text/x-python",
   "name": "python",
   "nbconvert_exporter": "python",
   "pygments_lexer": "ipython3",
   "version": "3.11.0"
  }
 },
 "nbformat": 4,
 "nbformat_minor": 5
}
